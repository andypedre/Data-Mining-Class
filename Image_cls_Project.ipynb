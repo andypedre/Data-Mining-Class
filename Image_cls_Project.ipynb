{
  "nbformat": 4,
  "nbformat_minor": 0,
  "metadata": {
    "colab": {
      "provenance": [],
      "authorship_tag": "ABX9TyOz1VObL1PSv9JTj3mqAXzK",
      "include_colab_link": true
    },
    "kernelspec": {
      "name": "python3",
      "display_name": "Python 3"
    },
    "language_info": {
      "name": "python"
    }
  },
  "cells": [
    {
      "cell_type": "markdown",
      "metadata": {
        "id": "view-in-github",
        "colab_type": "text"
      },
      "source": [
        "<a href=\"https://colab.research.google.com/github/andypedre2016/Data-MIning-Class/blob/main/Image_cls_Project.ipynb\" target=\"_parent\"><img src=\"https://colab.research.google.com/assets/colab-badge.svg\" alt=\"Open In Colab\"/></a>"
      ]
    },
    {
      "cell_type": "markdown",
      "source": [
        "# Image Classification "
      ],
      "metadata": {
        "id": "b8khtN05PjJ_"
      }
    },
    {
      "cell_type": "markdown",
      "source": [
        "I am going to be using the CIFAR-10 dataset for this project. I will be predicting the images into the 10 possible castegories described in the instructions. For that I am going to use a Convolutional Neural Network."
      ],
      "metadata": {
        "id": "xZxohRRlC8a5"
      }
    },
    {
      "cell_type": "code",
      "execution_count": 139,
      "metadata": {
        "id": "XkyylAfjO_g1"
      },
      "outputs": [],
      "source": [
        "#Importing the data set\n",
        "import tensorflow as tf\n",
        "import keras\n",
        "from tensorflow.keras import datasets\n",
        "\n",
        "#Importing dataset and dividing in images and labels as a format\n",
        "(train_images, train_labels), (test_images, test_labels) = datasets.cifar10.load_data()\n"
      ]
    },
    {
      "cell_type": "markdown",
      "source": [
        "Then the model will be train from the \"train_images\" and \"train_labels\", and will be tested using the \"test_images\" and the \"test_labels\"."
      ],
      "metadata": {
        "id": "ehl23OVYHSRd"
      }
    },
    {
      "cell_type": "code",
      "source": [
        "#Taking a look at the shape of the train images\n",
        "train_images.shape"
      ],
      "metadata": {
        "colab": {
          "base_uri": "https://localhost:8080/"
        },
        "id": "SA6SpjGaF07M",
        "outputId": "ca22947f-bdad-4591-b51e-a6bb9ed38a9c"
      },
      "execution_count": 140,
      "outputs": [
        {
          "output_type": "execute_result",
          "data": {
            "text/plain": [
              "(50000, 32, 32, 3)"
            ]
          },
          "metadata": {},
          "execution_count": 140
        }
      ]
    },
    {
      "cell_type": "markdown",
      "source": [
        "Looks like we have 50000 images 32x32 pixels and RGB."
      ],
      "metadata": {
        "id": "-oFHpyyhIONH"
      }
    },
    {
      "cell_type": "code",
      "source": [
        "#taking a look at the shape of the labels\n",
        "print('train labels:' , train_labels.shape)\n",
        "print('train images:' , train_images.shape)\n",
        "print('test labels:' , test_labels.shape)\n",
        "print('test images:', test_images.shape)"
      ],
      "metadata": {
        "id": "33y8wljjLuGD",
        "colab": {
          "base_uri": "https://localhost:8080/"
        },
        "outputId": "fff2fa02-b060-477b-f1c0-f867bd76a940"
      },
      "execution_count": 141,
      "outputs": [
        {
          "output_type": "stream",
          "name": "stdout",
          "text": [
            "train labels: (50000, 1)\n",
            "train images: (50000, 32, 32, 3)\n",
            "test labels: (10000, 1)\n",
            "test images: (10000, 32, 32, 3)\n"
          ]
        }
      ]
    },
    {
      "cell_type": "code",
      "source": [
        "#Displaying 5 of the training labels\n",
        "train_labels[:5]"
      ],
      "metadata": {
        "colab": {
          "base_uri": "https://localhost:8080/"
        },
        "id": "P_hWx7DirzDi",
        "outputId": "9fd431b7-3689-4558-908d-cb134bb87db1"
      },
      "execution_count": 142,
      "outputs": [
        {
          "output_type": "execute_result",
          "data": {
            "text/plain": [
              "array([[6],\n",
              "       [9],\n",
              "       [9],\n",
              "       [4],\n",
              "       [1]], dtype=uint8)"
            ]
          },
          "metadata": {},
          "execution_count": 142
        }
      ]
    },
    {
      "cell_type": "markdown",
      "source": [
        "We can see that the labels are in a fromart of a two dimensional array. I want to reshape it into a one dimensional array."
      ],
      "metadata": {
        "id": "Wy_LKFO3sI3X"
      }
    },
    {
      "cell_type": "code",
      "source": [
        "#Using resahpe method to flatten a numpy array\n",
        "train_labels = train_labels.reshape(-1, )\n",
        "train_labels[:5]"
      ],
      "metadata": {
        "colab": {
          "base_uri": "https://localhost:8080/"
        },
        "id": "iU6bBzgps9Hs",
        "outputId": "3608d719-93c8-42ea-c2f5-573aa473303b"
      },
      "execution_count": 143,
      "outputs": [
        {
          "output_type": "execute_result",
          "data": {
            "text/plain": [
              "array([6, 9, 9, 4, 1], dtype=uint8)"
            ]
          },
          "metadata": {},
          "execution_count": 143
        }
      ]
    },
    {
      "cell_type": "code",
      "source": [
        "#Reshaping the test images\n",
        "test_labels = test_labels.reshape(-1, )\n",
        "test_labels[:5]"
      ],
      "metadata": {
        "colab": {
          "base_uri": "https://localhost:8080/"
        },
        "id": "_kMg4VGM2UU-",
        "outputId": "a66e2493-96d6-4a3a-bd63-f0f087502599"
      },
      "execution_count": 144,
      "outputs": [
        {
          "output_type": "execute_result",
          "data": {
            "text/plain": [
              "array([3, 8, 8, 0, 6], dtype=uint8)"
            ]
          },
          "metadata": {},
          "execution_count": 144
        }
      ]
    },
    {
      "cell_type": "code",
      "source": [
        "#Creating an array of the name of the labels column\n",
        "#This would be the possible classification of each image\n",
        "columns = ['airplane', 'automobile', 'bird', 'cat', 'deer', 'dog', 'frog', 'horse', 'ship', 'truck']"
      ],
      "metadata": {
        "id": "G4ZBwyI8opV1"
      },
      "execution_count": 145,
      "outputs": []
    },
    {
      "cell_type": "code",
      "source": [
        "#To get an idea of how this data looks like:\n",
        "#I am going to make a function that display images\n",
        "\n",
        "#Importing pyplot\n",
        "import matplotlib.pyplot as plt\n",
        "\n",
        "#function that takes as a parameter the index of an image\n",
        "def displayImage(images, labels, index):\n",
        "    plt.figure(figsize= (2, 2))\n",
        "    plt.imshow(images[index])\n",
        "    plt.xlabel(columns[labels[index]])"
      ],
      "metadata": {
        "id": "My2cY4qfIG7H"
      },
      "execution_count": 158,
      "outputs": []
    },
    {
      "cell_type": "code",
      "source": [
        "#Calling the function created to display a few of the images\n",
        "displayImage(train_images, train_labels, 0)\n",
        "displayImage(train_images, train_labels, 1)\n",
        "displayImage(train_images, train_labels, 2)\n",
        "displayImage(train_images, train_labels, 3)\n",
        "displayImage(train_images, train_labels, 4)"
      ],
      "metadata": {
        "colab": {
          "base_uri": "https://localhost:8080/",
          "height": 797
        },
        "id": "YWAff5y6MPe5",
        "outputId": "e433fb19-d973-4cfc-e7ee-cb4a5cbc869e"
      },
      "execution_count": 159,
      "outputs": [
        {
          "output_type": "display_data",
          "data": {
            "text/plain": [
              "<Figure size 144x144 with 1 Axes>"
            ],
            "image/png": "[encoded data removed]"
          },
          "metadata": {
            "needs_background": "light"
          }
        },
        {
          "output_type": "display_data",
          "data": {
            "text/plain": [
              "<Figure size 144x144 with 1 Axes>"
            ],
            "image/png": "[encoded data removed]"
          },
          "metadata": {
            "needs_background": "light"
          }
        },
        {
          "output_type": "display_data",
          "data": {
            "text/plain": [
              "<Figure size 144x144 with 1 Axes>"
            ],
            "image/png": "[encoded data removed]"
          },
          "metadata": {
            "needs_background": "light"
          }
        },
        {
          "output_type": "display_data",
          "data": {
            "text/plain": [
              "<Figure size 144x144 with 1 Axes>"
            ],
            "image/png": "[encoded data removed]"
          },
          "metadata": {
            "needs_background": "light"
          }
        },
        {
          "output_type": "display_data",
          "data": {
            "text/plain": [
              "<Figure size 144x144 with 1 Axes>"
            ],
            "image/png": "[encoded data removed]"
          },
          "metadata": {
            "needs_background": "light"
          }
        }
      ]
    },
    {
      "cell_type": "markdown",
      "source": [
        "So each image is displayed with its corresponding index from the columns array."
      ],
      "metadata": {
        "id": "lHT68TfNuEAe"
      }
    },
    {
      "cell_type": "markdown",
      "source": [
        "##Predicting with a CNN model"
      ],
      "metadata": {
        "id": "IctB46ct4fMD"
      }
    },
    {
      "cell_type": "code",
      "source": [
        "#Diving the images by 255 to normalize it\n",
        "train_images = train_images / 255\n",
        "test_images = test_images / 255"
      ],
      "metadata": {
        "id": "xJgZKzItO2qT"
      },
      "execution_count": 148,
      "outputs": []
    },
    {
      "cell_type": "code",
      "source": [
        "#Building the CNN model\n",
        "from keras import layers\n",
        "from keras import models\n",
        "\n",
        "#Instantiating the model\n",
        "model = models.Sequential()\n",
        "\n",
        "#Adding the CNN layers\n",
        "\n",
        "#Activation layer\n",
        "#Adding a Conv2D layer, 3x3 patches and a depth of 32. The input with be 32 x 32 pixels and depth 3.\n",
        "model.add(layers.Conv2D(filters= 32, kernel_size= (3, 3), activation='relu', input_shape=(32, 32, 3)))\n",
        "#Adding a MaxPooling2D with a patch size of 2 x 2.\n",
        "model.add(layers.MaxPooling2D((2, 2)))\n",
        "#Adding another Conv2D layer 3x3 patches and a depth of 64 activtion relu.\n",
        "model.add(layers.Conv2D(filters= 64, kernel_size= (3, 3), activation='relu'))\n",
        "#Adding another MaxPooling2D with a patch size of 2 x 2.\n",
        "model.add(layers.MaxPooling2D((2, 2)))\n",
        "\n",
        "#Adding Dense layers\n",
        "\n",
        "#Flattenig\n",
        "model.add(layers.Flatten())\n",
        "#Adding a dense layer of 64 \n",
        "model.add(layers.Dense(64, activation='relu'))\n",
        "#Adding a classification layer activation softmax\n",
        "model.add(layers.Dense(10, activation='softmax'))\n",
        "\n",
        "model.summary()"
      ],
      "metadata": {
        "id": "wclTzn3WMV0K",
        "colab": {
          "base_uri": "https://localhost:8080/"
        },
        "outputId": "e96c3b93-563c-4f98-8280-81906f88ea71"
      },
      "execution_count": 149,
      "outputs": [
        {
          "output_type": "stream",
          "name": "stdout",
          "text": [
            "Model: \"sequential_10\"\n",
            "_________________________________________________________________\n",
            " Layer (type)                Output Shape              Param #   \n",
            "=================================================================\n",
            " conv2d_22 (Conv2D)          (None, 30, 30, 32)        896       \n",
            "                                                                 \n",
            " max_pooling2d_19 (MaxPoolin  (None, 15, 15, 32)       0         \n",
            " g2D)                                                            \n",
            "                                                                 \n",
            " conv2d_23 (Conv2D)          (None, 13, 13, 64)        18496     \n",
            "                                                                 \n",
            " max_pooling2d_20 (MaxPoolin  (None, 6, 6, 64)         0         \n",
            " g2D)                                                            \n",
            "                                                                 \n",
            " flatten_7 (Flatten)         (None, 2304)              0         \n",
            "                                                                 \n",
            " dense_14 (Dense)            (None, 64)                147520    \n",
            "                                                                 \n",
            " dense_15 (Dense)            (None, 10)                650       \n",
            "                                                                 \n",
            "=================================================================\n",
            "Total params: 167,562\n",
            "Trainable params: 167,562\n",
            "Non-trainable params: 0\n",
            "_________________________________________________________________\n"
          ]
        }
      ]
    },
    {
      "cell_type": "code",
      "source": [
        "#Compiling the model\n",
        "#loss is set to sparse_categorical_crossentropy because I am not using one hot encoded labels\n",
        "model.compile(optimizer='adam',\n",
        "              loss='sparse_categorical_crossentropy',\n",
        "              metrics=['accuracy'])"
      ],
      "metadata": {
        "id": "We6clpT_7azd"
      },
      "execution_count": 150,
      "outputs": []
    },
    {
      "cell_type": "code",
      "source": [
        "#Training the model using training images and labels\n",
        "model.fit(train_images, train_labels, epochs=10)"
      ],
      "metadata": {
        "colab": {
          "base_uri": "https://localhost:8080/"
        },
        "id": "iHarjwBR7iIO",
        "outputId": "3e9a370c-dff4-49b8-b218-5fd6b04716d2"
      },
      "execution_count": 151,
      "outputs": [
        {
          "output_type": "stream",
          "name": "stdout",
          "text": [
            "Epoch 1/10\n",
            "1563/1563 [==============================] - 75s 48ms/step - loss: 1.4826 - accuracy: 0.4656\n",
            "Epoch 2/10\n",
            "1563/1563 [==============================] - 72s 46ms/step - loss: 1.1211 - accuracy: 0.6064\n",
            "Epoch 3/10\n",
            "1563/1563 [==============================] - 74s 48ms/step - loss: 0.9996 - accuracy: 0.6521\n",
            "Epoch 4/10\n",
            "1563/1563 [==============================] - 76s 49ms/step - loss: 0.9164 - accuracy: 0.6825\n",
            "Epoch 5/10\n",
            "1563/1563 [==============================] - 75s 48ms/step - loss: 0.8521 - accuracy: 0.7028\n",
            "Epoch 6/10\n",
            "1563/1563 [==============================] - 74s 47ms/step - loss: 0.7970 - accuracy: 0.7243\n",
            "Epoch 7/10\n",
            "1563/1563 [==============================] - 73s 46ms/step - loss: 0.7509 - accuracy: 0.7398\n",
            "Epoch 8/10\n",
            "1563/1563 [==============================] - 76s 48ms/step - loss: 0.7114 - accuracy: 0.7536\n",
            "Epoch 9/10\n",
            "1563/1563 [==============================] - 73s 46ms/step - loss: 0.6736 - accuracy: 0.7648\n",
            "Epoch 10/10\n",
            "1563/1563 [==============================] - 72s 46ms/step - loss: 0.6406 - accuracy: 0.7773\n"
          ]
        },
        {
          "output_type": "execute_result",
          "data": {
            "text/plain": [
              "<keras.callbacks.History at 0x7f721f3ec950>"
            ]
          },
          "metadata": {},
          "execution_count": 151
        }
      ]
    },
    {
      "cell_type": "code",
      "source": [
        "#Evaluating the model to see how accurated it is\n",
        "model.evaluate(test_images, test_labels)"
      ],
      "metadata": {
        "colab": {
          "base_uri": "https://localhost:8080/"
        },
        "id": "kdRBmVnK7lTG",
        "outputId": "aa8936e5-373a-4138-b10c-bab3202dc30a"
      },
      "execution_count": 152,
      "outputs": [
        {
          "output_type": "stream",
          "name": "stdout",
          "text": [
            "313/313 [==============================] - 5s 14ms/step - loss: 0.9580 - accuracy: 0.6828\n"
          ]
        },
        {
          "output_type": "execute_result",
          "data": {
            "text/plain": [
              "[0.9579833745956421, 0.6827999949455261]"
            ]
          },
          "metadata": {},
          "execution_count": 152
        }
      ]
    },
    {
      "cell_type": "markdown",
      "source": [
        "This model has an accuracy of aroud 68%\n",
        "\n",
        "---\n",
        "\n"
      ],
      "metadata": {
        "id": "5jV2bsMcaE46"
      }
    },
    {
      "cell_type": "markdown",
      "source": [
        "Now let's view some of the data the model just predicted:"
      ],
      "metadata": {
        "id": "ZFkSWasfhG7o"
      }
    },
    {
      "cell_type": "code",
      "source": [
        "#Using the functing created before \n",
        "displayImage(test_images, test_labels, 1)\n",
        "displayImage(test_images, test_labels, 4)\n",
        "displayImage(test_images, test_labels, 8)\n",
        "displayImage(test_images, test_labels, 10)\n",
        "displayImage(test_images, test_labels, 12)\n",
        "displayImage(test_images, test_labels, 14)"
      ],
      "metadata": {
        "colab": {
          "base_uri": "https://localhost:8080/",
          "height": 953
        },
        "id": "f6j20Ed3hXco",
        "outputId": "da211906-9611-447b-960e-d832f6cde2d5"
      },
      "execution_count": 161,
      "outputs": [
        {
          "output_type": "display_data",
          "data": {
            "text/plain": [
              "<Figure size 144x144 with 1 Axes>"
            ],
            "image/png": "[encoded data removed]"
          },
          "metadata": {
            "needs_background": "light"
          }
        },
        {
          "output_type": "display_data",
          "data": {
            "text/plain": [
              "<Figure size 144x144 with 1 Axes>"
            ],
            "image/png": "[encoded data removed]"
          },
          "metadata": {
            "needs_background": "light"
          }
        },
        {
          "output_type": "display_data",
          "data": {
            "text/plain": [
              "<Figure size 144x144 with 1 Axes>"
            ],
            "image/png": "[encoded data removed]"
          },
          "metadata": {
            "needs_background": "light"
          }
        },
        {
          "output_type": "display_data",
          "data": {
            "text/plain": [
              "<Figure size 144x144 with 1 Axes>"
            ],
            "image/png": "[encoded data removed]"
          },
          "metadata": {
            "needs_background": "light"
          }
        },
        {
          "output_type": "display_data",
          "data": {
            "text/plain": [
              "<Figure size 144x144 with 1 Axes>"
            ],
            "image/png": "[encoded data removed]"
          },
          "metadata": {
            "needs_background": "light"
          }
        },
        {
          "output_type": "display_data",
          "data": {
            "text/plain": [
              "<Figure size 144x144 with 1 Axes>"
            ],
            "image/png": "[encoded data removed]"
          },
          "metadata": {
            "needs_background": "light"
          }
        }
      ]
    }
  ]
}