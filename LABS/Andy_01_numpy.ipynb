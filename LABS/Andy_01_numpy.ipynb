{
  "cells": [
    {
      "cell_type": "markdown",
      "metadata": {
        "id": "view-in-github",
        "colab_type": "text"
      },
      "source": [
        "<a href=\"https://colab.research.google.com/github/andypedre2016/Data-MIning-Class/blob/main/Andy_01_numpy.ipynb\" target=\"_parent\"><img src=\"https://colab.research.google.com/assets/colab-badge.svg\" alt=\"Open In Colab\"/></a>"
      ]
    },
    {
      "cell_type": "markdown",
      "metadata": {
        "id": "WqIp1iiDEzod"
      },
      "source": [
        "#` Task 1: Getting started with NumPy\n",
        "\n",
        "![](https://raw.githubusercontent.com/zacharski/datamining-guide/master/labs/pics/numpy.png)\n",
        "\n",
        "## Task 1: Fundamentals\n",
        "\n",
        "Let's spend a few minutes just learning some of the fundamentals of NumPy. (pronounced as num-pie **not num-pee**) \n",
        "\n",
        "### what is NumPy\n",
        "NumPy is a Python library that support large, multi-dimensional arrays and matrices. \n",
        "\n",
        "Let's look at an example. Suppose we start with a little table:\n",
        "\n",
        "| a  | b | c  |  d | e |\n",
        "| :---: | :---: | :---: | :---: | :---: |\n",
        "| 0 | 1 | 2 | 3 | 4 |\n",
        "|10| 11| 12 | 13 | 14|\n",
        "|20| 21 | 22 | 23 | 24 |\n",
        "|30 | 31 | 32 | 33 | 34 |\n",
        "|40 |41 | 42 | 43 | 44 |\n",
        "\n",
        "and we simply want to add 10 to each cell:\n",
        "\n",
        "| a  | b | c  |  d | e |\n",
        "| :---: | :---: | :---: | :---: | :---: |\n",
        "| 10 | 11 | 12 | 13 | 14 |\n",
        "|20| 21| 22 | 23 | 24|\n",
        "|30| 31 | 32 | 33 | 34 |\n",
        "|40 | 41 | 42 | 43 | 44 |\n",
        "|50 |51 | 52 | 53 | 54 |\n",
        "\n",
        "\n",
        "\n",
        "First, let's construct it in generic Python"
      ]
    },
    {
      "cell_type": "code",
      "execution_count": null,
      "metadata": {
        "id": "4X_KY9CaEzoe",
        "colab": {
          "base_uri": "https://localhost:8080/"
        },
        "outputId": "76bc09b3-aff4-4bcb-d093-2ab7d29043fe"
      },
      "outputs": [
        {
          "output_type": "execute_result",
          "data": {
            "text/plain": [
              "[[0, 1, 2, 3, 4],\n",
              " [5, 6, 7, 8, 9],\n",
              " [10, 11, 12, 13, 14],\n",
              " [15, 16, 17, 18, 19],\n",
              " [20, 21, 22, 23, 24]]"
            ]
          },
          "metadata": {},
          "execution_count": 1
        }
      ],
      "source": [
        "a5 = [[x + y * 5 for x in range(5)] for y in range(5)]\n",
        "a5\n",
        "\n"
      ]
    },
    {
      "cell_type": "markdown",
      "metadata": {
        "id": "94i2KiF_H1gp"
      },
      "source": [
        "And suppose we have the magic function `addToA5(i)` that will add *i* to each cell in the array:\n",
        "\n",
        "```\n",
        "addToA5(10)\n",
        "A5\n",
        "```\n",
        "returns\n",
        "\n",
        "```\n",
        "[[10, 11, 12, 13, 14],\n",
        " [15, 16, 17, 18, 19],\n",
        " [20, 21, 22, 23, 24],\n",
        " [25, 26, 27, 28, 29],\n",
        " [30, 31, 32, 33, 34]]\n",
        " ```\n"
      ]
    },
    {
      "cell_type": "markdown",
      "metadata": {
        "id": "ygCpl5ohF5g-"
      },
      "source": [
        "To make things interesting, instead of a a 5 x5 array, let's make it 1,000 x 1,000 -- so 1 million cells!"
      ]
    },
    {
      "cell_type": "code",
      "execution_count": null,
      "metadata": {
        "id": "eO9-33gbF5uN"
      },
      "outputs": [],
      "source": [
        "a = [[x + y * 1000 for x in range(1000)] for y in range(1000)]\n"
      ]
    },
    {
      "cell_type": "markdown",
      "metadata": {
        "id": "d3puxQBNEzof"
      },
      "source": [
        "![](https://raw.githubusercontent.com/zacharski/datamining-guide/master/labs/pics/torchdivide.png)\n",
        "\n",
        "\n",
        "# <font color='#EE4C2C'>You Try ...</font> \n",
        "Ok, time to get coding\n",
        "\n",
        "## <font color='#EE4C2C'>1. addToArray(i)</font> \n",
        "Can you write  a function `addToArr(10)` that will add 10 to each cell in our  1000x1000 matrix."
      ]
    },
    {
      "cell_type": "code",
      "execution_count": null,
      "metadata": {
        "id": "PY6RX8WrEzof"
      },
      "outputs": [],
      "source": [
        "def addToArr(i):\n",
        " a = [[x + y * 1000 + i for x in range(1000)] for y in range(1000)]"
      ]
    },
    {
      "cell_type": "markdown",
      "metadata": {
        "id": "sOF-73z2Ezof"
      },
      "source": [
        "Let's take a look at how much time it takes to run that function:"
      ]
    },
    {
      "cell_type": "code",
      "execution_count": null,
      "metadata": {
        "id": "1Z5AjlhyEzof",
        "colab": {
          "base_uri": "https://localhost:8080/"
        },
        "outputId": "f401bf4b-829d-48ce-b18c-f50b611a5d28"
      },
      "outputs": [
        {
          "output_type": "stream",
          "name": "stdout",
          "text": [
            "CPU times: user 162 ms, sys: 17.5 ms, total: 179 ms\n",
            "Wall time: 180 ms\n"
          ]
        }
      ],
      "source": [
        "%time addToArr(10)"
      ]
    },
    {
      "cell_type": "markdown",
      "metadata": {
        "id": "Cptrd_XzEzog"
      },
      "source": [
        "My results were:\n",
        "\n",
        "    CPU times: user 145 ms, sys: 0 ns, total: 145 ms\n",
        "    Wall time: 143 ms\n",
        "\n",
        "So about 1/7 of a second. \n",
        "\n",
        "![](https://raw.githubusercontent.com/zacharski/datamining-guide/master/labs/pics/numpySmall2.png)\n",
        "### Doing in using Numpy\n",
        "Now we will try the same using NumPy.\n",
        "\n",
        "\n",
        "We can construct the array using\n",
        "    \n",
        "    arr = np.arange(1000000).reshape((1000,1000))\n",
        "\n",
        "Not sure what that line does? NumPy has great online documentation. [Documentation for np.arange](https://numpy.org/doc/stable/reference/generated/numpy.arange.html) says it \"Return evenly spaced values within a given interval.\" Let's try it out:"
      ]
    },
    {
      "cell_type": "code",
      "execution_count": null,
      "metadata": {
        "id": "l3zp6Y2dEzog",
        "colab": {
          "base_uri": "https://localhost:8080/"
        },
        "outputId": "05afdbb0-1335-4c67-f320-74768905a12f"
      },
      "outputs": [
        {
          "output_type": "execute_result",
          "data": {
            "text/plain": [
              "array([ 0,  1,  2,  3,  4,  5,  6,  7,  8,  9, 10, 11, 12, 13, 14, 15])"
            ]
          },
          "metadata": {},
          "execution_count": 5
        }
      ],
      "source": [
        "import numpy as np\n",
        "np.arange(16)"
      ]
    },
    {
      "cell_type": "markdown",
      "metadata": {
        "id": "By7ufsRqEzog"
      },
      "source": [
        "So `np.arange(10)` creates a matrix of 16 sequential integers. [The documentation for reshape](https://numpy.org/doc/1.18/reference/generated/numpy.reshape.html) says, as the name suggests, \"Gives a new shape to an array without changing its data.\"  Suppose we want to reshape our 1 dimensional matrix of 16 integers to a 4x4 one. we can do:"
      ]
    },
    {
      "cell_type": "code",
      "execution_count": null,
      "metadata": {
        "id": "fd7FF6lrEzog",
        "colab": {
          "base_uri": "https://localhost:8080/"
        },
        "outputId": "53228fd6-d11d-4abd-de94-13503f10d618"
      },
      "outputs": [
        {
          "output_type": "execute_result",
          "data": {
            "text/plain": [
              "array([[ 0,  1,  2,  3],\n",
              "       [ 4,  5,  6,  7],\n",
              "       [ 8,  9, 10, 11],\n",
              "       [12, 13, 14, 15]])"
            ]
          },
          "metadata": {},
          "execution_count": 6
        }
      ],
      "source": [
        "np.arange(16).reshape((4,4))"
      ]
    },
    {
      "cell_type": "markdown",
      "metadata": {
        "id": "m3AeTcM4Ezog"
      },
      "source": [
        "As you can see it is pretty easy to find documentation on Numpy.\n",
        "\n",
        "Back to our example of creating a 1000x1000 matrix, we now can time how long it takes to add 10 to each cell.\n",
        "\n",
        "    %time arr = arr + 10\n",
        "    \n",
        "Let's put this all together:"
      ]
    },
    {
      "cell_type": "code",
      "execution_count": null,
      "metadata": {
        "id": "uezL6bdwEzog",
        "colab": {
          "base_uri": "https://localhost:8080/"
        },
        "outputId": "4cb1c2d8-8cbb-4771-f1fb-6dc124badbd7"
      },
      "outputs": [
        {
          "output_type": "stream",
          "name": "stdout",
          "text": [
            "CPU times: user 274 µs, sys: 4.16 ms, total: 4.43 ms\n",
            "Wall time: 4.5 ms\n"
          ]
        }
      ],
      "source": [
        "import numpy as np\n",
        "arr = np.arange(1000000).reshape((1000,1000))\n",
        "%time arr = arr + 10"
      ]
    },
    {
      "cell_type": "markdown",
      "metadata": {
        "id": "BDP1xbHnEzog"
      },
      "source": [
        "My results were\n",
        "\n",
        "    CPU times: user 1.26 ms, sys: 408 µs, total: 1.67 ms\n",
        "    Wall time: 1.68 ms\n",
        "\n",
        "So, depending on your computer, somewhere around 25 to 100 times faster. **That is phenomenally faster!**. \n"
      ]
    },
    {
      "cell_type": "markdown",
      "metadata": {
        "id": "Iz4-PVEFEzoh"
      },
      "source": [
        "### built in functions\n",
        "In addition to being faster, NumPy has a wide range of built in functions. So, for example, instead of you writing code to calculate the mean or sum or standard deviation of a multidimensional array you can just use numpy:"
      ]
    },
    {
      "cell_type": "code",
      "execution_count": null,
      "metadata": {
        "id": "rS7U3aPhEzoh",
        "colab": {
          "base_uri": "https://localhost:8080/"
        },
        "outputId": "7821e00d-e09f-450d-b8bd-6a12a6ce3304"
      },
      "outputs": [
        {
          "output_type": "execute_result",
          "data": {
            "text/plain": [
              "500009.5"
            ]
          },
          "metadata": {},
          "execution_count": 8
        }
      ],
      "source": [
        "arr.mean()"
      ]
    },
    {
      "cell_type": "code",
      "execution_count": null,
      "metadata": {
        "id": "X7mFmJ4REzoh",
        "colab": {
          "base_uri": "https://localhost:8080/"
        },
        "outputId": "c1095a42-dbfb-407d-ab00-cd768cb5a0fd"
      },
      "outputs": [
        {
          "output_type": "execute_result",
          "data": {
            "text/plain": [
              "500009500000"
            ]
          },
          "metadata": {},
          "execution_count": 9
        }
      ],
      "source": [
        "arr.sum()"
      ]
    },
    {
      "cell_type": "code",
      "execution_count": null,
      "metadata": {
        "id": "BkqaY-9KEzoh",
        "colab": {
          "base_uri": "https://localhost:8080/"
        },
        "outputId": "8175d989-b71d-4a3f-f155-92ef85a3af4a"
      },
      "outputs": [
        {
          "output_type": "execute_result",
          "data": {
            "text/plain": [
              "288675.1345946685"
            ]
          },
          "metadata": {},
          "execution_count": 10
        }
      ],
      "source": [
        " arr.std()"
      ]
    },
    {
      "cell_type": "markdown",
      "metadata": {
        "id": "57UPklwXEzoh"
      },
      "source": [
        "So not only is it faster, but NumPy minimizes the code you have to write. A win, win.\n",
        "\n",
        "Let's continue with some basics."
      ]
    },
    {
      "cell_type": "markdown",
      "metadata": {
        "id": "umsiIMGdEzoh"
      },
      "source": [
        "## NumPy examined \n",
        "So NumPy is a library containing a super-fast n-dimensional array object and a load of functions that can operate on those arrays. To use NumPy, we must first load the library into our code and we do that with the statement:\n"
      ]
    },
    {
      "cell_type": "code",
      "execution_count": 7,
      "metadata": {
        "id": "NZ0PuMReEzoh"
      },
      "outputs": [],
      "source": [
        " import numpy as np"
      ]
    },
    {
      "cell_type": "markdown",
      "metadata": {
        "id": "O1XeAsuNEzoh"
      },
      "source": [
        "Perhaps most of you are saying \"fine, fine, I know this already\", but let me catch others up to speed. This is just one of several ways we can load a library into Python. We could just say:"
      ]
    },
    {
      "cell_type": "code",
      "execution_count": 6,
      "metadata": {
        "id": "6WZ0b-ziEzoi"
      },
      "outputs": [],
      "source": [
        " import numpy"
      ]
    },
    {
      "cell_type": "markdown",
      "metadata": {
        "id": "a7JfDLjeEzoi"
      },
      "source": [
        "and everytime we need to use one of the functions built into NumPy we would need to preface that function with `numpy` . So for example, we could create an array with\n"
      ]
    },
    {
      "cell_type": "code",
      "execution_count": null,
      "metadata": {
        "id": "oErl0l27Ezoi"
      },
      "outputs": [],
      "source": [
        "arr = numpy.array([1, 2, 3, 4, 5])"
      ]
    },
    {
      "cell_type": "markdown",
      "metadata": {
        "id": "PXiS0DQoEzoi"
      },
      "source": [
        "If we got tired of writing `numpy` in front of every function, instead of typing"
      ]
    },
    {
      "cell_type": "code",
      "execution_count": 5,
      "metadata": {
        "id": "YQqpT6M7Ezoi"
      },
      "outputs": [],
      "source": [
        "import numpy"
      ]
    },
    {
      "cell_type": "markdown",
      "metadata": {
        "id": "SyjCk5JoEzoi"
      },
      "source": [
        "we could write:"
      ]
    },
    {
      "cell_type": "code",
      "execution_count": 3,
      "metadata": {
        "id": "Y6C2MDGIEzoi"
      },
      "outputs": [],
      "source": [
        "from numpy import *"
      ]
    },
    {
      "cell_type": "markdown",
      "metadata": {
        "id": "s56z0_mQEzoi"
      },
      "source": [
        "(where that * means 'everything' and the whole expression means import everything from the NumPy library).  Now we can use any NumPy function without putting `numpy` in front of it:"
      ]
    },
    {
      "cell_type": "code",
      "execution_count": null,
      "metadata": {
        "id": "frR4dxZkEzoi"
      },
      "outputs": [],
      "source": [
        "arr = array([1, 2, 3, 4, 5])"
      ]
    },
    {
      "cell_type": "markdown",
      "metadata": {
        "id": "9tSQnBugEzoi"
      },
      "source": [
        "This may at first seem like a good idea, but it is considered bad form by Python developers. \n",
        "\n",
        "The solution is to use what we initially introduced:"
      ]
    },
    {
      "cell_type": "code",
      "execution_count": null,
      "metadata": {
        "id": "GYqMBrtDEzoi"
      },
      "outputs": [],
      "source": [
        " import numpy as np"
      ]
    },
    {
      "cell_type": "markdown",
      "metadata": {
        "id": "LksNM-0cEzoi"
      },
      "source": [
        "this makes `np` an alias for `numpy`. so now we would put *np* in front of numpy functions."
      ]
    },
    {
      "cell_type": "code",
      "execution_count": null,
      "metadata": {
        "id": "kBmnY2ThEzoi"
      },
      "outputs": [],
      "source": [
        " arr = np.array([1, 2, 3, 4, 5])"
      ]
    },
    {
      "cell_type": "markdown",
      "metadata": {
        "id": "MckhLtRZEzoi"
      },
      "source": [
        "Of course we could use anything as an alias for `numpy`:"
      ]
    },
    {
      "cell_type": "code",
      "execution_count": null,
      "metadata": {
        "id": "O745lABLEzoi"
      },
      "outputs": [],
      "source": [
        "import numpy as myCoolSneakers\n",
        "arr = myCoolSneakers.array([1, 2, 3, 4, 5])\n"
      ]
    },
    {
      "cell_type": "markdown",
      "metadata": {
        "id": "q59LN5V_Ezoi"
      },
      "source": [
        "But it is convention among data scientists, machine learning experts, and the cool kids to use `np`.  One big benefit of this convention is that it makes the code you write more understandable to others and vice versa (I don't need to be scouring your code to find out what `myCoolSneakers.array` does)\n",
        "\n",
        "## creating arrays\n",
        "\n",
        "An Array in NumPy is called an `ndarray` for n-dimensional array.  As we will see, they share some similarities with Python lists. We have already seen how to create one:"
      ]
    },
    {
      "cell_type": "code",
      "execution_count": null,
      "metadata": {
        "id": "Ky7GJY-sEzoi"
      },
      "outputs": [],
      "source": [
        "arr = np.array([1, 2, 3, 4, 5])"
      ]
    },
    {
      "cell_type": "markdown",
      "metadata": {
        "id": "Ig3__G2fEzoi"
      },
      "source": [
        "and to display what `arr` equals"
      ]
    },
    {
      "cell_type": "code",
      "execution_count": null,
      "metadata": {
        "id": "3DuNKiC7Ezoi",
        "colab": {
          "base_uri": "https://localhost:8080/"
        },
        "outputId": "6d0bbf9f-e551-49bb-b7dc-ff55fee184d0"
      },
      "outputs": [
        {
          "output_type": "execute_result",
          "data": {
            "text/plain": [
              "array([1, 2, 3, 4, 5])"
            ]
          },
          "metadata": {},
          "execution_count": 19
        }
      ],
      "source": [
        "arr"
      ]
    },
    {
      "cell_type": "markdown",
      "metadata": {
        "id": "PDKxlPxLEzoi"
      },
      "source": [
        "This is a one dimensional array. The position of an element in the array is called the index. The first element of the array is at index 0, the next at index 1 and so on. We can get the item at a particular index by using the syntax:"
      ]
    },
    {
      "cell_type": "code",
      "execution_count": null,
      "metadata": {
        "id": "HyK5547PEzoi",
        "colab": {
          "base_uri": "https://localhost:8080/"
        },
        "outputId": "5dda6f44-e146-4a1d-e371-38edc4c3f96b"
      },
      "outputs": [
        {
          "output_type": "execute_result",
          "data": {
            "text/plain": [
              "1"
            ]
          },
          "metadata": {},
          "execution_count": 48
        }
      ],
      "source": [
        " arr[0]"
      ]
    },
    {
      "cell_type": "code",
      "execution_count": null,
      "metadata": {
        "id": "y4CI-sRoEzoj",
        "colab": {
          "base_uri": "https://localhost:8080/"
        },
        "outputId": "2d46eb1a-cbf6-4d7a-ac02-fbd8471f8696"
      },
      "outputs": [
        {
          "output_type": "execute_result",
          "data": {
            "text/plain": [
              "4"
            ]
          },
          "metadata": {},
          "execution_count": 49
        }
      ],
      "source": [
        "arr[3]"
      ]
    },
    {
      "cell_type": "markdown",
      "metadata": {
        "id": "z1yJ1ktaEzoj"
      },
      "source": [
        "We can create a 2 dimensional array that looks like\n",
        "\n",
        "      10  20  30\n",
        "      40  50  60\n",
        " \n",
        "by:\n"
      ]
    },
    {
      "cell_type": "code",
      "execution_count": null,
      "metadata": {
        "id": "u3tTM1_IEzoj"
      },
      "outputs": [],
      "source": [
        " arr = np.array([[10, 20, 30], [40, 50, 60]])"
      ]
    },
    {
      "cell_type": "markdown",
      "metadata": {
        "id": "uN9-b83pEzoj"
      },
      "source": [
        "and we can show the contents of that array just be using the name of the array, `arr`\n"
      ]
    },
    {
      "cell_type": "code",
      "execution_count": null,
      "metadata": {
        "id": "1LmJkAbQEzoj",
        "colab": {
          "base_uri": "https://localhost:8080/"
        },
        "outputId": "07076537-db3f-49e3-846f-3456e099a247"
      },
      "outputs": [
        {
          "output_type": "execute_result",
          "data": {
            "text/plain": [
              "array([[10, 20, 30],\n",
              "       [40, 50, 60]])"
            ]
          },
          "metadata": {},
          "execution_count": 21
        }
      ],
      "source": [
        "arr"
      ]
    },
    {
      "cell_type": "markdown",
      "metadata": {
        "id": "gjxt_bTCEzoj"
      },
      "source": [
        "We don't need to name arrays `arr`, we can name them anything we want. "
      ]
    },
    {
      "cell_type": "code",
      "execution_count": null,
      "metadata": {
        "id": "Wcr7ViBVEzoj"
      },
      "outputs": [],
      "source": [
        "ratings = np.array([[1, 2, 3], [4, 5, 6], [7, 8, 9]])"
      ]
    },
    {
      "cell_type": "code",
      "execution_count": null,
      "metadata": {
        "id": "OJIxRvLREzoj"
      },
      "outputs": [],
      "source": [
        "ratings"
      ]
    },
    {
      "cell_type": "markdown",
      "metadata": {
        "id": "sQk3PTjNEzoj"
      },
      "source": [
        "So far, we've been creating numpy arrays by using Python lists. We can make that more explicit by first creating the Python list and then using it to create the ndarray:"
      ]
    },
    {
      "cell_type": "code",
      "execution_count": null,
      "metadata": {
        "id": "f30f_r3mEzoj",
        "colab": {
          "base_uri": "https://localhost:8080/"
        },
        "outputId": "887a41d6-c263-4bc2-86cd-2b477da703bf"
      },
      "outputs": [
        {
          "output_type": "execute_result",
          "data": {
            "text/plain": [
              "array([[ 1,  2,  3,  4,  5],\n",
              "       [ 6,  7,  8,  9, 10]])"
            ]
          },
          "metadata": {},
          "execution_count": 22
        }
      ],
      "source": [
        "pythonArray = [[1, 2, 3, 4, 5], [6, 7, 8, 9, 10]]\n",
        "sweet = np.array(pythonArray)\n",
        "sweet"
      ]
    },
    {
      "cell_type": "markdown",
      "metadata": {
        "id": "lTI4O04yEzoj"
      },
      "source": [
        "We can also create an array of all zeros or all ones directly:"
      ]
    },
    {
      "cell_type": "code",
      "execution_count": null,
      "metadata": {
        "id": "DS9MGlFsEzoj",
        "colab": {
          "base_uri": "https://localhost:8080/"
        },
        "outputId": "6068c3be-28e5-4b81-e54b-b92c778c7edf"
      },
      "outputs": [
        {
          "output_type": "execute_result",
          "data": {
            "text/plain": [
              "array([0., 0., 0., 0., 0., 0., 0., 0., 0., 0.])"
            ]
          },
          "metadata": {},
          "execution_count": 23
        }
      ],
      "source": [
        "np.zeros(10)"
      ]
    },
    {
      "cell_type": "code",
      "execution_count": null,
      "metadata": {
        "id": "y2rHFjAnEzoj",
        "colab": {
          "base_uri": "https://localhost:8080/"
        },
        "outputId": "49f8f928-04a5-48f0-f4fd-67bc435ea624"
      },
      "outputs": [
        {
          "output_type": "execute_result",
          "data": {
            "text/plain": [
              "array([[1., 1.],\n",
              "       [1., 1.],\n",
              "       [1., 1.],\n",
              "       [1., 1.],\n",
              "       [1., 1.]])"
            ]
          },
          "metadata": {},
          "execution_count": 24
        }
      ],
      "source": [
        "np.ones((5, 2))"
      ]
    },
    {
      "cell_type": "markdown",
      "metadata": {
        "id": "6m6aHGieEzoj"
      },
      "source": [
        "### indexing\n",
        "Indexing elements in ndarrays works pretty much the same as it does in Python. We have already seen one example, here is another example with a one dimensional array:\n"
      ]
    },
    {
      "cell_type": "code",
      "execution_count": null,
      "metadata": {
        "id": "fS2zDeIkEzoj",
        "colab": {
          "base_uri": "https://localhost:8080/"
        },
        "outputId": "08b8c15a-fdb6-49e7-bce2-4f90ce2a50e6"
      },
      "outputs": [
        {
          "output_type": "execute_result",
          "data": {
            "text/plain": [
              "48"
            ]
          },
          "metadata": {},
          "execution_count": 25
        }
      ],
      "source": [
        "temperatures = np.array([48, 44, 37, 35, 32, 29, 33, 36, 42])\n",
        "temperatures[0]"
      ]
    },
    {
      "cell_type": "code",
      "execution_count": null,
      "metadata": {
        "id": "diBYHKV5Ezoj",
        "colab": {
          "base_uri": "https://localhost:8080/"
        },
        "outputId": "f865fe63-1ec0-4e7f-b040-55c178d55cff"
      },
      "outputs": [
        {
          "output_type": "execute_result",
          "data": {
            "text/plain": [
              "35"
            ]
          },
          "metadata": {},
          "execution_count": 26
        }
      ],
      "source": [
        "temperatures[3]"
      ]
    },
    {
      "cell_type": "markdown",
      "metadata": {
        "id": "SKG_mRmjEzoj"
      },
      "source": [
        "and a two dimensional one:"
      ]
    },
    {
      "cell_type": "code",
      "execution_count": null,
      "metadata": {
        "id": "igsNn0feEzoj",
        "colab": {
          "base_uri": "https://localhost:8080/"
        },
        "outputId": "69ecd4bd-0975-4c30-e54d-709edd51b9a9"
      },
      "outputs": [
        {
          "output_type": "execute_result",
          "data": {
            "text/plain": [
              "20"
            ]
          },
          "metadata": {},
          "execution_count": 27
        }
      ],
      "source": [
        "sample = np.array([[10, 20, 30], [40, 50, 60]])\n",
        "sample[0][1]"
      ]
    },
    {
      "cell_type": "markdown",
      "metadata": {
        "id": "msSSxHQVEzoj"
      },
      "source": [
        "For numpy ndarrays we can also use a comma to separate the indices of multi-dimensional arrays:"
      ]
    },
    {
      "cell_type": "code",
      "execution_count": null,
      "metadata": {
        "id": "SOkMiqMtEzoj",
        "colab": {
          "base_uri": "https://localhost:8080/"
        },
        "outputId": "b0324a42-d0fe-4a7a-9d44-cdcd1e62193b"
      },
      "outputs": [
        {
          "output_type": "execute_result",
          "data": {
            "text/plain": [
              "60"
            ]
          },
          "metadata": {},
          "execution_count": 28
        }
      ],
      "source": [
        "sample[1,2]"
      ]
    },
    {
      "cell_type": "markdown",
      "metadata": {
        "id": "zUmH0fQYEzok"
      },
      "source": [
        "And, like Python you can also get a slice of an array. First, here is the basic Python example:"
      ]
    },
    {
      "cell_type": "code",
      "execution_count": null,
      "metadata": {
        "id": "GxgSEjSREzok",
        "colab": {
          "base_uri": "https://localhost:8080/"
        },
        "outputId": "46f34050-c667-4969-dbfa-19e98afc5238"
      },
      "outputs": [
        {
          "output_type": "execute_result",
          "data": {
            "text/plain": [
              "[20, 30, 40]"
            ]
          },
          "metadata": {},
          "execution_count": 29
        }
      ],
      "source": [
        "a = [10, 20, 30, 40, 50, 60]\n",
        "b = a[1:4]\n",
        "b"
      ]
    },
    {
      "cell_type": "markdown",
      "metadata": {
        "id": "_qsZG_1kEzok"
      },
      "source": [
        "and the similar NumPy example:"
      ]
    },
    {
      "cell_type": "code",
      "execution_count": null,
      "metadata": {
        "id": "A7731YZhEzok",
        "colab": {
          "base_uri": "https://localhost:8080/"
        },
        "outputId": "7a2fa0a6-543f-4153-a5ac-54b0f8cbd285"
      },
      "outputs": [
        {
          "output_type": "execute_result",
          "data": {
            "text/plain": [
              "array([20, 30, 40])"
            ]
          },
          "metadata": {},
          "execution_count": 30
        }
      ],
      "source": [
        "aarr = np.array(a)\n",
        "barr = aarr[1:4]\n",
        "barr"
      ]
    },
    {
      "cell_type": "markdown",
      "metadata": {
        "id": "9_6DDzmNEzok"
      },
      "source": [
        "### Something  wacky to remember\n",
        "But there is a difference between Python arrays and numpy ndarrays. If I alter the array `b` in Python, the orginal `a` array is not altered:"
      ]
    },
    {
      "cell_type": "code",
      "execution_count": null,
      "metadata": {
        "id": "GxvDBtB-Ezok"
      },
      "outputs": [],
      "source": [
        "b[1] = b[1] + 5"
      ]
    },
    {
      "cell_type": "code",
      "execution_count": null,
      "metadata": {
        "id": "r-tDVluWEzok",
        "colab": {
          "base_uri": "https://localhost:8080/"
        },
        "outputId": "beb575bb-4a27-4364-9da5-697d4092fd2d"
      },
      "outputs": [
        {
          "output_type": "execute_result",
          "data": {
            "text/plain": [
              "[20, 35, 40]"
            ]
          },
          "metadata": {},
          "execution_count": 32
        }
      ],
      "source": [
        "b"
      ]
    },
    {
      "cell_type": "code",
      "execution_count": null,
      "metadata": {
        "id": "J9xeTYc-Ezok",
        "colab": {
          "base_uri": "https://localhost:8080/"
        },
        "outputId": "a5bf5ba6-63b7-4b21-bb52-01914963c83a"
      },
      "outputs": [
        {
          "output_type": "execute_result",
          "data": {
            "text/plain": [
              "[10, 20, 30, 40, 50, 60]"
            ]
          },
          "metadata": {},
          "execution_count": 33
        }
      ],
      "source": [
        "a"
      ]
    },
    {
      "cell_type": "markdown",
      "metadata": {
        "id": "2Jz7VyKUEzok"
      },
      "source": [
        "but if we do the same in NumPy:"
      ]
    },
    {
      "cell_type": "code",
      "execution_count": null,
      "metadata": {
        "id": "Hjw08awgEzok"
      },
      "outputs": [],
      "source": [
        "barr[1] = barr[1] + 5"
      ]
    },
    {
      "cell_type": "code",
      "execution_count": null,
      "metadata": {
        "id": "1QONIcb1Ezok",
        "colab": {
          "base_uri": "https://localhost:8080/"
        },
        "outputId": "bd1835b2-48cc-4e80-b870-5f081cb04c3b"
      },
      "outputs": [
        {
          "output_type": "execute_result",
          "data": {
            "text/plain": [
              "array([20, 35, 40])"
            ]
          },
          "metadata": {},
          "execution_count": 35
        }
      ],
      "source": [
        "barr"
      ]
    },
    {
      "cell_type": "code",
      "execution_count": null,
      "metadata": {
        "id": "fo7NRbRjEzok",
        "colab": {
          "base_uri": "https://localhost:8080/"
        },
        "outputId": "008aa97e-0a2a-4f89-d564-62e50635551e"
      },
      "outputs": [
        {
          "output_type": "execute_result",
          "data": {
            "text/plain": [
              "array([10, 20, 35, 40, 50, 60])"
            ]
          },
          "metadata": {},
          "execution_count": 36
        }
      ],
      "source": [
        "aarr"
      ]
    },
    {
      "cell_type": "markdown",
      "metadata": {
        "id": "VkhfvKxaEzok"
      },
      "source": [
        "we see that the original array is altered since we modified the slice. This may seem wacky to you, or maybe it doesn't. In any case, it is something you will get used to. For now, just be aware of this. It took me awhile to stop making mistakes because of this.\n",
        "\n",
        "## Functions on arrays\n",
        "\n",
        "NumPy has a wide range of array functons. Here is just a sample.\n",
        "\n",
        "### Unary functions\n",
        "\n",
        "#### absolute value"
      ]
    },
    {
      "cell_type": "code",
      "execution_count": null,
      "metadata": {
        "id": "u87dTKk2Ezok",
        "colab": {
          "base_uri": "https://localhost:8080/"
        },
        "outputId": "421768d9-c461-4fdc-d1b6-3016382d9223"
      },
      "outputs": [
        {
          "output_type": "execute_result",
          "data": {
            "text/plain": [
              "array([ 2, 12, 25,  0])"
            ]
          },
          "metadata": {},
          "execution_count": 39
        }
      ],
      "source": [
        "arr = np.array([-2, 12, -25, 0])\n",
        "arr2 = np.abs(arr)\n",
        "arr2"
      ]
    },
    {
      "cell_type": "code",
      "execution_count": null,
      "metadata": {
        "id": "feUIEQl6Ezok",
        "colab": {
          "base_uri": "https://localhost:8080/"
        },
        "outputId": "ea83d18a-2355-4466-8a8f-e4d360fd7827"
      },
      "outputs": [
        {
          "output_type": "execute_result",
          "data": {
            "text/plain": [
              "array([[ 2, 12],\n",
              "       [25,  0]])"
            ]
          },
          "metadata": {},
          "execution_count": 40
        }
      ],
      "source": [
        "arr = np.array([[-2, 12], [-25, 0]])\n",
        "arr2 = np.abs(arr)\n",
        "arr2               "
      ]
    },
    {
      "cell_type": "markdown",
      "metadata": {
        "id": "WpT_C-egEzok"
      },
      "source": [
        "#### square"
      ]
    },
    {
      "cell_type": "code",
      "execution_count": null,
      "metadata": {
        "id": "Iixy0JTjEzok",
        "colab": {
          "base_uri": "https://localhost:8080/"
        },
        "outputId": "cba60445-40e4-483c-8bbf-cffe941a95ce"
      },
      "outputs": [
        {
          "output_type": "execute_result",
          "data": {
            "text/plain": [
              "array([ 1,  4,  9, 16])"
            ]
          },
          "metadata": {},
          "execution_count": 41
        }
      ],
      "source": [
        "arr = np.array([-1, 2, -3, 4])\n",
        "arr2 = np.square(arr)\n",
        "arr2"
      ]
    },
    {
      "cell_type": "markdown",
      "metadata": {
        "id": "umNpXgcbEzok"
      },
      "source": [
        "#### squareroot"
      ]
    },
    {
      "cell_type": "code",
      "execution_count": null,
      "metadata": {
        "id": "qieZmImEEzok",
        "colab": {
          "base_uri": "https://localhost:8080/"
        },
        "outputId": "c4dd620d-0502-4870-87ee-dbf5ffbac129"
      },
      "outputs": [
        {
          "output_type": "execute_result",
          "data": {
            "text/plain": [
              "array([[2., 3.],\n",
              "       [4., 5.]])"
            ]
          },
          "metadata": {},
          "execution_count": 42
        }
      ],
      "source": [
        "arr = np.array([[4, 9], [16, 25]])\n",
        "arr2 = np.sqrt(arr)\n",
        "arr2"
      ]
    },
    {
      "cell_type": "markdown",
      "metadata": {
        "id": "RKuo98Z-Ezok"
      },
      "source": [
        "## Binary functions\n",
        "\n",
        "#### add /subtract / multiply / divide\n"
      ]
    },
    {
      "cell_type": "code",
      "execution_count": null,
      "metadata": {
        "id": "mXiQuUk-Ezok",
        "colab": {
          "base_uri": "https://localhost:8080/"
        },
        "outputId": "dfe19aac-0f1d-4945-df25-9e8ca83b00e6"
      },
      "outputs": [
        {
          "output_type": "execute_result",
          "data": {
            "text/plain": [
              "array([[11, 22],\n",
              "       [33, 44]])"
            ]
          },
          "metadata": {},
          "execution_count": 43
        }
      ],
      "source": [
        "arr1 = np.array([[10, 20], [30, 40]])\n",
        "arr2 = np.array([[1, 2], [3, 4]])\n",
        "np.add(arr1, arr2)"
      ]
    },
    {
      "cell_type": "code",
      "execution_count": null,
      "metadata": {
        "id": "MmoSp7LrEzol",
        "colab": {
          "base_uri": "https://localhost:8080/"
        },
        "outputId": "bb7638d0-8ca8-4f6a-cd4b-15d9683bb83b"
      },
      "outputs": [
        {
          "output_type": "execute_result",
          "data": {
            "text/plain": [
              "array([[ 9, 18],\n",
              "       [27, 36]])"
            ]
          },
          "metadata": {},
          "execution_count": 44
        }
      ],
      "source": [
        "np.subtract(arr1, arr2)"
      ]
    },
    {
      "cell_type": "code",
      "execution_count": null,
      "metadata": {
        "id": "5KO88xF4Ezol",
        "colab": {
          "base_uri": "https://localhost:8080/"
        },
        "outputId": "b0bb9043-5abc-4d47-c0ab-1f148a9bb521"
      },
      "outputs": [
        {
          "output_type": "execute_result",
          "data": {
            "text/plain": [
              "array([[ 10,  40],\n",
              "       [ 90, 160]])"
            ]
          },
          "metadata": {},
          "execution_count": 45
        }
      ],
      "source": [
        "np.multiply(arr1, arr2)"
      ]
    },
    {
      "cell_type": "code",
      "execution_count": null,
      "metadata": {
        "id": "tmUeanf9Ezol",
        "colab": {
          "base_uri": "https://localhost:8080/"
        },
        "outputId": "9c6944b8-43ba-4357-de63-8fd86748adda"
      },
      "outputs": [
        {
          "output_type": "execute_result",
          "data": {
            "text/plain": [
              "array([[10., 10.],\n",
              "       [10., 10.]])"
            ]
          },
          "metadata": {},
          "execution_count": 46
        }
      ],
      "source": [
        "np.divide(arr1, arr2)"
      ]
    },
    {
      "cell_type": "markdown",
      "metadata": {
        "id": "lWU0zriTEzol"
      },
      "source": [
        "#### maximum / minimum\n"
      ]
    },
    {
      "cell_type": "code",
      "execution_count": null,
      "metadata": {
        "id": "93YvULTsEzol",
        "colab": {
          "base_uri": "https://localhost:8080/"
        },
        "outputId": "4410f0b5-74f7-4860-b511-a57bfc7f0853"
      },
      "outputs": [
        {
          "output_type": "execute_result",
          "data": {
            "text/plain": [
              "array([[10, 20],\n",
              "       [30, 40]])"
            ]
          },
          "metadata": {},
          "execution_count": 47
        }
      ],
      "source": [
        "arr1 = np.array([[10, 2], [3, 40]])\n",
        "arr2 = np.array([[1, 20], [30, 4]])\n",
        "np.maximum(arr1, arr2)"
      ]
    },
    {
      "cell_type": "markdown",
      "metadata": {
        "id": "1oKpR6kBEzol"
      },
      "source": [
        "#### these are just examples. There are more unary and binary functions"
      ]
    },
    {
      "cell_type": "markdown",
      "metadata": {
        "id": "CyM9uQLPEzol"
      },
      "source": [
        "## NumPy Uber\n",
        "Let us say we have Uber drivers at various intersections around Austin. We will represent that as a set of x,y coordinates.\n",
        "\n",
        " | Driver |xPos | yPos |\n",
        " | :---: | :---: | :---: |\n",
        " | Ann | 4 | 5 |\n",
        " | Clara | 6 | 6 |\n",
        " | Dora | 3 | 1 |\n",
        " | Erica | 9 | 5 |\n",
        " \n",
        " \n",
        " Now I would like to find the closest driver to a customer who is at 6, 3.\n",
        "\n",
        "\n",
        " ![](https://raw.githubusercontent.com/zacharski/datamining-guide/master/labs/pics/distance.png)\n",
        " And to further define *closest* I am going to use what is called **Manhattan Distance**. Roughly put, Manhattan distance is distance if you followed streets. Ann, for example, is two blocks West of our customer and two blocks north. So the Manhattan distance from Ann to our customer is `2+2` or `4`. \n",
        " \n",
        " First, to make things easy (and because the data in a NumPy array must be of the same type), I will represent the x and y positions in one NumPy array and the driver names in another:"
      ]
    },
    {
      "cell_type": "code",
      "execution_count": 14,
      "metadata": {
        "id": "E80-y7SeEzol",
        "colab": {
          "base_uri": "https://localhost:8080/"
        },
        "outputId": "7074679d-a7a6-4751-e19c-615ea35a6d21"
      },
      "outputs": [
        {
          "output_type": "execute_result",
          "data": {
            "text/plain": [
              "array([[4, 5],\n",
              "       [6, 6],\n",
              "       [3, 1],\n",
              "       [9, 5]])"
            ]
          },
          "metadata": {},
          "execution_count": 14
        }
      ],
      "source": [
        "locations = np.array([[4, 5], [6, 6], [3, 1], [9,5]])\n",
        "locations"
      ]
    },
    {
      "cell_type": "code",
      "execution_count": 10,
      "metadata": {
        "id": "4lAUNQaIEzol"
      },
      "outputs": [],
      "source": [
        "drivers = np.array([\"Ann\", \"Clara\", \"Dora\", \"Erica\"])"
      ]
    },
    {
      "cell_type": "markdown",
      "metadata": {
        "id": "JwaCW-YWEzol"
      },
      "source": [
        "Our customer is at"
      ]
    },
    {
      "cell_type": "code",
      "execution_count": 11,
      "metadata": {
        "id": "cWVbH5wGEzol"
      },
      "outputs": [],
      "source": [
        "cust = np.array([6, 3])"
      ]
    },
    {
      "cell_type": "markdown",
      "metadata": {
        "id": "G5eekKfBEzol"
      },
      "source": [
        "now we are going to figure out the distance between each of our drivers and the customer"
      ]
    },
    {
      "cell_type": "code",
      "execution_count": 15,
      "metadata": {
        "id": "GOuEAXxuEzol",
        "colab": {
          "base_uri": "https://localhost:8080/"
        },
        "outputId": "e2144d5b-5cd9-42a6-d43c-d349c4ebb363"
      },
      "outputs": [
        {
          "output_type": "execute_result",
          "data": {
            "text/plain": [
              "array([[-2,  2],\n",
              "       [ 0,  3],\n",
              "       [-3, -2],\n",
              "       [ 3,  2]])"
            ]
          },
          "metadata": {},
          "execution_count": 15
        }
      ],
      "source": [
        "xydiff = locations - cust\n",
        "xydiff"
      ]
    },
    {
      "cell_type": "markdown",
      "metadata": {
        "id": "XJnva8QzEzol"
      },
      "source": [
        "NOTE: displaying the results with `xydiff` isn't a necessary step. I just like seeing intermediate results.\n",
        "\n",
        "Ok. now I am goint to sum the absolute values:"
      ]
    },
    {
      "cell_type": "code",
      "execution_count": 16,
      "metadata": {
        "id": "NyzqcpU_Ezol",
        "colab": {
          "base_uri": "https://localhost:8080/"
        },
        "outputId": "8574cbe0-2e08-425e-8923-b279cb881454"
      },
      "outputs": [
        {
          "output_type": "execute_result",
          "data": {
            "text/plain": [
              "array([4, 3, 5, 5])"
            ]
          },
          "metadata": {},
          "execution_count": 16
        }
      ],
      "source": [
        "distances =np.abs(xydiff).sum(axis = 1)\n",
        "distances"
      ]
    },
    {
      "cell_type": "markdown",
      "metadata": {
        "id": "OXtYEUKTEzol"
      },
      "source": [
        "So the output is the array `[4, 3, 5, 5]` which shows that Ann is 4 away from our customer; Clara is 3 away and so on.\n",
        "\n",
        "Now I am going to sort these using `argsort`:"
      ]
    },
    {
      "cell_type": "code",
      "execution_count": 17,
      "metadata": {
        "id": "dDwUuh3gEzol",
        "colab": {
          "base_uri": "https://localhost:8080/"
        },
        "outputId": "9e5a4107-42ea-4a2c-d629-150235065290"
      },
      "outputs": [
        {
          "output_type": "execute_result",
          "data": {
            "text/plain": [
              "array([1, 0, 2, 3])"
            ]
          },
          "metadata": {},
          "execution_count": 17
        }
      ],
      "source": [
        "sorted = np.argsort(distances)\n",
        "sorted"
      ]
    },
    {
      "cell_type": "markdown",
      "metadata": {
        "id": "hDMgmlPjEzol"
      },
      "source": [
        "`argsort` returns an array of sorted indices. So the element at position 1 is the smallest followed by the element at position 0 and so on.\n",
        "\n",
        "Next, I am going to get the first element of that array (in this case 1) and find the name of the driver at that position in the `drivers` array"
      ]
    },
    {
      "cell_type": "code",
      "execution_count": 18,
      "metadata": {
        "id": "gf87Qxt3Ezom",
        "colab": {
          "base_uri": "https://localhost:8080/",
          "height": 35
        },
        "outputId": "ec957c99-96a8-4c2d-ef20-87404f6cae30"
      },
      "outputs": [
        {
          "output_type": "execute_result",
          "data": {
            "text/plain": [
              "'Clara'"
            ],
            "application/vnd.google.colaboratory.intrinsic+json": {
              "type": "string"
            }
          },
          "metadata": {},
          "execution_count": 18
        }
      ],
      "source": [
        "drivers[sorted[0]]"
      ]
    },
    {
      "cell_type": "markdown",
      "metadata": {
        "id": "tNtIvsYzEzom"
      },
      "source": [
        "![](https://raw.githubusercontent.com/zacharski/datamining-guide/master/labs/pics/torchdivide.png)\n",
        "\n",
        "\n",
        "# <font color='#EE4C2C'>You Try ...</font> \n",
        "Ok, time to get coding\n",
        "\n",
        "## <font color='#EE4C2C'>2. a function</font> \n",
        "\n",
        "Can you put all the above in a function. that takes 3 arguments, the location array, the array containing the names of the drivers, and the array containing the location of the customer. It should return the name of the closest driver.\n"
      ]
    },
    {
      "cell_type": "code",
      "execution_count": 20,
      "metadata": {
        "id": "P8-RIo0XEzom",
        "colab": {
          "base_uri": "https://localhost:8080/"
        },
        "outputId": "b5e294b5-55b2-43bd-950d-9ef3121cce47"
      },
      "outputs": [
        {
          "output_type": "stream",
          "name": "stdout",
          "text": [
            "Clara\n"
          ]
        }
      ],
      "source": [
        "def findDriver(distanceArr, driversArr, customerArr):\n",
        "   result = ''\n",
        "   ### put your code here\n",
        "   diff = distanceArr - customerArr\n",
        "   dist = np.abs(diff).sum(axis=1)\n",
        "   sort = np.argsort(dist)\n",
        "   result = driversArr[sort[0]]\n",
        "   return result\n",
        "print(findDriver(locations, drivers, cust)) # this should return Clara"
      ]
    },
    {
      "cell_type": "markdown",
      "metadata": {
        "id": "cVYaKLu1Ezom"
      },
      "source": [
        "### CONGRATULATIONS\n",
        "\n",
        "Even though this is just an intro to NumPy, I am going to throw some math at you. So far we have been looking at a two dimensional example, x and y (or North-South and East-West) and our distance formula for the distance, Dist between Ann, A and Customer C is\n",
        "\n",
        "$$ DIST_{AC} = |A_x - C_x | + |A_y - C_y | $$\n",
        "\n",
        "Now I am going to warp this a bit. In this example, each driver is represented by an array (as is the customer) So, Ann is represented by `[1,2]` and the customer by `[3,4]`. So Ann's 0th element is 1 and the customer's 0th element is 3. And, sorry, computer science people start counting at 0 but math people (and all other normal people) start at 1 so we  can rewrite the above formula as:\n",
        "\n",
        "$$ DIST_{AC} = |A_0 - C_0 | + |A_1 - C_1 | $$\n",
        "\n",
        "That's the distance formula for Ann and the Customer. We can make the formula by saying the distance between any two people, let's call them *x* and *y* is\n",
        "\n",
        "\n",
        "$$ DIST_{xy} = |x_0 - y_0 | + |x_1 - y_1 | $$\n",
        "\n",
        "That is the formula for  2 dimensional Manhattan Distance. We can imagine a three dimensional case.  \n",
        "\n",
        "$$ DIST_{xy} = |x_0 - y_0 | + |x_1 - y_1 | + |x_2 - y_2 | $$\n",
        "\n",
        "and we can generalize the formula to the n-dimensional case.\n",
        " \n",
        "$$ DIST_{xy}=\\sum_{i=0}^n |x_i - y_i| $$\n",
        "\n",
        "Just in time for a five dimensional example:\n",
        "\n",
        "![](https://raw.githubusercontent.com/zacharski/datamining-guide/master/labs/pics/PyDivideTwo.png)\n",
        "\n",
        "\n",
        "\n",
        "## <font color='#EE4C2C'>3. The Amazing 5D Music example</font> \n",
        "\n",
        "![](https://raw.githubusercontent.com/zacharski/datamining-guide/master/labs/pics/artists.png)\n",
        "\n",
        "Guests went into a listening booth and rated the following tunes:\n",
        "\n",
        "* [Janelle Monae Tightrope](https://www.youtube.com/watch?v=pwnefUaKCbc)\n",
        "* [Major Lazer - Cold Water](https://www.youtube.com/watch?v=nBtDsQ4fhXY)\n",
        "* [Tim McGraw - Humble & Kind](https://www.youtube.com/watch?v=awzNHuGqoMc)\n",
        "* [Maren Morris - My Church](https://www.youtube.com/watch?v=ouWQ25O-Mcg)\n",
        "* [Hailee Steinfeld - Starving](https://www.youtube.com/watch?v=xwjwCFZpdns)\n",
        "\n",
        "\n",
        "Here are the results:\n",
        "\n",
        "| Guest  | Janelle Monae  | Major Lazer  | Tim McGraw  |  Maren Morris | Hailee Steinfeld| \n",
        "|---|---|---|---|---|---|\n",
        "|  Ann | 4  |  5 | 2  |  1 | 3 |\n",
        "| Ben  |  3 |  1 |  5 | 4  | 2|\n",
        "| Jordyn  | 5  |  5 | 2  | 2  | 3|\n",
        "|  Sam | 4 | 1 | 4 | 4 | 1|\n",
        "| Hyunseo | 1 | 1 | 5 | 4 | 1 |\n",
        "| Ahmed | 4 | 5 | 3 |  3 | 1 |\n",
        "\n",
        "So Ann, for example, really liked Major Lazer and Janelle Monae but didn't care much for Maren Morris.\n",
        "\n",
        "Let's set up a few numpy arrays.\n"
      ]
    },
    {
      "cell_type": "code",
      "execution_count": 8,
      "metadata": {
        "id": "PQJ116HWEzom"
      },
      "outputs": [],
      "source": [
        "customers = np.array([[4, 5, 2, 1, 3],\n",
        "                      [3, 1, 5, 4, 2],\n",
        "                      [5, 5, 2, 2, 3],\n",
        "                      [4, 1, 4, 4, 1], \n",
        "                      [1, 1, 5, 4, 1],\n",
        "                      [4, 5, 3, 3, 1]])\n",
        "\n",
        "customerNames = np.array([\"Ann\", \"Ben\", 'Jordyn', \"Sam\", \"Hyunseo\", \"Ahmed\"])\n",
        "\n"
      ]
    },
    {
      "cell_type": "markdown",
      "metadata": {
        "id": "w1TukNeeEzom"
      },
      "source": [
        "Now let's set up a few new customers:"
      ]
    },
    {
      "cell_type": "code",
      "execution_count": 9,
      "metadata": {
        "id": "8To125u7Ezom"
      },
      "outputs": [],
      "source": [
        "mikaela = np.array([3, 2, 4, 5, 4])\n",
        "brandon = np.array([4, 5, 1, 2, 3])"
      ]
    },
    {
      "cell_type": "markdown",
      "metadata": {
        "id": "0g44IoKOEzom"
      },
      "source": [
        "Now we would like to determine  which of our current customers is closest to Mikaela and which to Brandon.\n",
        "\n",
        "\n",
        "### Work to be done ...\n",
        "Can you write a function findClosest that takes 3 arguments: customers, customerNames, and an array representing one customer's ratings and returns the name of the closest customer?\n",
        "\n",
        "Let's break this down a bit.\n",
        "\n",
        "1. Which line in the NumPy Uber section above will create a new array which is the result of subtracting the Mikaela array from each row of the customers array resulting in\n",
        "\n",
        "```\n",
        "array([[ 1,  3, -2, -4, -1],\n",
        "       [ 0, -1,  1, -1, -2],\n",
        "       [ 2,  3, -2, -3, -1],\n",
        "       [ 1, -1,  0, -1, -3],\n",
        "       [-2, -1,  1, -1, -3],\n",
        "       [ 1,  3, -1, -2, -3]])\n",
        "       ```\n"
      ]
    },
    {
      "cell_type": "code",
      "execution_count": 22,
      "metadata": {
        "id": "FJeaxo5wEzom",
        "colab": {
          "base_uri": "https://localhost:8080/"
        },
        "outputId": "309de9ab-01de-4d54-b909-26a9c2727c01"
      },
      "outputs": [
        {
          "output_type": "execute_result",
          "data": {
            "text/plain": [
              "array([[ 1,  3, -2, -4, -1],\n",
              "       [ 0, -1,  1, -1, -2],\n",
              "       [ 2,  3, -2, -3, -1],\n",
              "       [ 1, -1,  0, -1, -3],\n",
              "       [-2, -1,  1, -1, -3],\n",
              "       [ 1,  3, -1, -2, -3]])"
            ]
          },
          "metadata": {},
          "execution_count": 22
        }
      ],
      "source": [
        "substr = customers - mikaela\n",
        "substr"
      ]
    },
    {
      "cell_type": "markdown",
      "metadata": {
        "id": "YjkM1gUFEzom"
      },
      "source": [
        "2. Which line above will take the array you created and generate a single integer distance for each row representing how far away that row is from Mikaela?  The results will look like:\n",
        "\n",
        "```\n",
        "    array([11,  5, 11,  6,  8, 10])\n",
        "```"
      ]
    },
    {
      "cell_type": "code",
      "execution_count": 24,
      "metadata": {
        "id": "5TsRe16eEzom",
        "colab": {
          "base_uri": "https://localhost:8080/"
        },
        "outputId": "0c864757-fb93-4428-ce4e-18c2ce56c431"
      },
      "outputs": [
        {
          "output_type": "execute_result",
          "data": {
            "text/plain": [
              "array([11,  5, 11,  6,  8, 10])"
            ]
          },
          "metadata": {},
          "execution_count": 24
        }
      ],
      "source": [
        " dist = np.abs(substr).sum(axis=1)\n",
        " dist"
      ]
    },
    {
      "cell_type": "markdown",
      "metadata": {
        "id": "tKabiJtMEzom"
      },
      "source": [
        "Finally, we want a sorted array of indices, the zeroth element of that array will be the closest row to Mikaela, the next element will be the next closest and so on. The result should be\n",
        "\n",
        "```\n",
        "array([1, 3, 4, 5, 0, 2])\n",
        "```\n"
      ]
    },
    {
      "cell_type": "code",
      "execution_count": 25,
      "metadata": {
        "id": "8wrA4f3aEzom",
        "colab": {
          "base_uri": "https://localhost:8080/"
        },
        "outputId": "0065f429-c5f0-4e11-f752-53dadf6d7491"
      },
      "outputs": [
        {
          "output_type": "execute_result",
          "data": {
            "text/plain": [
              "array([1, 3, 4, 5, 0, 2])"
            ]
          },
          "metadata": {},
          "execution_count": 25
        }
      ],
      "source": [
        "s = np.argsort(dist)\n",
        "s"
      ]
    },
    {
      "cell_type": "markdown",
      "metadata": {
        "id": "HNTQ0Q45Ezom"
      },
      "source": [
        "Finally we need the name of the person that is the closest. "
      ]
    },
    {
      "cell_type": "code",
      "execution_count": 26,
      "metadata": {
        "id": "MsHOrvoDEzom",
        "colab": {
          "base_uri": "https://localhost:8080/",
          "height": 35
        },
        "outputId": "ff61fb56-ab34-4a5d-a076-6bc17bb0b33f"
      },
      "outputs": [
        {
          "output_type": "execute_result",
          "data": {
            "text/plain": [
              "'Ben'"
            ],
            "application/vnd.google.colaboratory.intrinsic+json": {
              "type": "string"
            }
          },
          "metadata": {},
          "execution_count": 26
        }
      ],
      "source": [
        "customerNames[s[0]]"
      ]
    },
    {
      "cell_type": "markdown",
      "metadata": {
        "id": "xGgll_0qEzom"
      },
      "source": [
        "Okay, time to put it all together. Can you combine all the code you wrote above to finish the following function? So x is the new person and we want to find the closest customer to x."
      ]
    },
    {
      "cell_type": "code",
      "execution_count": 49,
      "metadata": {
        "id": "rk6bFcJHEzom",
        "colab": {
          "base_uri": "https://localhost:8080/"
        },
        "outputId": "6f98bdc1-13e8-4804-d41e-8fb63a344d5f"
      },
      "outputs": [
        {
          "output_type": "stream",
          "name": "stdout",
          "text": [
            "Ben\n",
            "Ann\n"
          ]
        }
      ],
      "source": [
        "def findClosest(customers, customerNames, x):\n",
        "   # TO DO\n",
        "   subst = customers - x\n",
        "   dis = np.abs(subst).sum(axis=1)\n",
        "   sor = np.argsort(dis)\n",
        "   return customerNames[sor[0]]\n",
        "   \n",
        "print(findClosest(customers, customerNames, mikaela)) # Should print Ben\n",
        "print(findClosest(customers, customerNames, brandon)) # Should print Ann"
      ]
    },
    {
      "cell_type": "markdown",
      "metadata": {
        "id": "feWzi-fVEzon"
      },
      "source": [
        "![](https://raw.githubusercontent.com/zacharski/datamining-guide/master/labs/pics/PyDivideTwo.png)\n",
        "## <font color='#EE4C2C'>4. Numpy drones</font> \n",
        "\n",
        "![](https://raw.githubusercontent.com/zacharski/datamining-guide/master/labs/pics/drone2.png)\n",
        "\n",
        "We are going to start with the same array we did way up above:\n",
        "\n",
        " \n",
        " | Drone |xPos | yPos |\n",
        " | :---: | :---: | :---: |\n",
        " | wing_1a | 4 | 5 |\n",
        " | wing_2a | 6 | 6 |\n",
        " | wing_3a | 3 | 1 |\n",
        " | wing_4a | 9 | 5 |\n",
        " \n",
        " But this time, instead of Uber drivers, think of these as positions of [Alphabet's Wing delivery drones](https://wing.com/). \n",
        " Now we would like to find the closest drone to a customer who is at 7, 1.\n",
        " \n",
        "With the previous example we used Manhattan Distance.  With drones, we can compute the distance as the crow flies -- or Euclidean Distance.  We probably learned how to do this way back in 7th grade when we learned the Pythagorean Theorem which states:\n",
        "\n",
        "$$c^2 = a^2 + b^2$$\n",
        "\n",
        "Where *c* is the hypotenuse and *a* and *b* are the two other sides. So, if we want to find *c*:\n",
        "\n",
        "$$c = \\sqrt{a^2 + b^2}$$\n",
        "\n",
        "\n",
        "If we want to find the distance between the drone and a customer, *x* and *y* in the formula becomes\n",
        "\n",
        "$$Dist_{xy} = \\sqrt{(x_1-y_1)^2 + (x_2-y_2)^2}$$\n",
        "\n",
        "and for `wing_1a` who is at `[4,5]` and our customer who is at `[7,1]` then the formula becomes:\n",
        "\n",
        "$$Dist_{xy} = \\sqrt{(x_1-y_1)^2 + (x_2-y_2)^2} = \\sqrt{(4-7)^2 + (5-1)^2} =\\sqrt{-3^2 + 4^2}  = \\sqrt{9 + 16} = \\sqrt{25} = 5$$\n",
        "\n",
        "Sweet!  And to generalize this distance formula:\n",
        "\n",
        "$$Dist_{xy} = \\sqrt{(x_1-y_1)^2 + (x_2-y_2)^2}$$\n",
        "\n",
        "to n-dimensions:\n",
        "\n",
        "$$Dist_{xy} = \\sum_{i=1}^n{\\sqrt{(x_i-y_i)^2}}$$\n",
        "\n",
        "\n",
        "\n",
        "\n",
        "\n",
        "Can you write a function euclidean that takes 3 arguments: droneLocation, droneNames, and an array representing one customer's position and returns the name of the closest drone?\n",
        "\n",
        "First, a helpful hint:\n"
      ]
    },
    {
      "cell_type": "code",
      "execution_count": 37,
      "metadata": {
        "id": "uVVU0kiLEzon",
        "colab": {
          "base_uri": "https://localhost:8080/"
        },
        "outputId": "a088c680-0c5b-4879-ccdf-dcdc0a89f2ec"
      },
      "outputs": [
        {
          "output_type": "execute_result",
          "data": {
            "text/plain": [
              "array([ 1,  4,  9, 16])"
            ]
          },
          "metadata": {},
          "execution_count": 37
        }
      ],
      "source": [
        "arr = np.array([-1, 2, -3, 4])\n",
        "arr2 = np.square(arr)\n",
        "arr2"
      ]
    },
    {
      "cell_type": "code",
      "execution_count": 53,
      "metadata": {
        "id": "-jL8MiMeEzon",
        "colab": {
          "base_uri": "https://localhost:8080/",
          "height": 35
        },
        "outputId": "d4ba52b1-5469-40e6-a665-6ea0d69a26a1"
      },
      "outputs": [
        {
          "output_type": "execute_result",
          "data": {
            "text/plain": [
              "'wing_1a'"
            ],
            "application/vnd.google.colaboratory.intrinsic+json": {
              "type": "string"
            }
          },
          "metadata": {},
          "execution_count": 53
        }
      ],
      "source": [
        "locations = np.array([[4, 5], [6, 6], [3, 1], [9,5]])\n",
        "drones = np.array([\"wing_1a\", \"wing_2a\", \"wing_3a\", \"wing_4a\"])\n",
        "cust = np.array([6, 3])\n",
        "\n",
        "def euclidean(droneLocation, droneNames, x):\n",
        "   result = ''\n",
        "   dif = locations - cust\n",
        "   s = np.sqrt(np.square(np.sum(dif)))\n",
        "   so = np.argsort(s)\n",
        "   result = droneNames[0]\n",
        "   return result\n",
        "\n",
        "euclidean(locations, drones, cust) "
      ]
    },
    {
      "cell_type": "code",
      "execution_count": 39,
      "metadata": {
        "id": "PUgvcOweEzon"
      },
      "outputs": [],
      "source": [
        "#TBD"
      ]
    }
  ],
  "metadata": {
    "anaconda-cloud": {},
    "colab": {
      "provenance": [],
      "collapsed_sections": [
        "1oKpR6kBEzol",
        "feWzi-fVEzon"
      ],
      "include_colab_link": true
    },
    "kernelspec": {
      "display_name": "Python 3 (ipykernel)",
      "language": "python",
      "name": "python3"
    },
    "language_info": {
      "codemirror_mode": {
        "name": "ipython",
        "version": 3
      },
      "file_extension": ".py",
      "mimetype": "text/x-python",
      "name": "python",
      "nbconvert_exporter": "python",
      "pygments_lexer": "ipython3",
      "version": "3.9.12"
    }
  },
  "nbformat": 4,
  "nbformat_minor": 0
}