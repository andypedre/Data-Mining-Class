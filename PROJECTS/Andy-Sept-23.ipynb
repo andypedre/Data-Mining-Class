{
  "nbformat": 4,
  "nbformat_minor": 0,
  "metadata": {
    "colab": {
      "provenance": [],
      "collapsed_sections": [],
      "authorship_tag": "ABX9TyOHTLUvIGSs6OF2Mx6g3Xg9",
      "include_colab_link": true
    },
    "kernelspec": {
      "name": "python3",
      "display_name": "Python 3"
    },
    "language_info": {
      "name": "python"
    }
  },
  "cells": [
    {
      "cell_type": "markdown",
      "metadata": {
        "id": "view-in-github",
        "colab_type": "text"
      },
      "source": [
        "<a href=\"https://colab.research.google.com/github/andypedre2016/Data-MIning-Class/blob/main/Andy-Sept-23.ipynb\" target=\"_parent\"><img src=\"https://colab.research.google.com/assets/colab-badge.svg\" alt=\"Open In Colab\"/></a>"
      ]
    },
    {
      "cell_type": "markdown",
      "source": [
        "# 1. numpy Euclidean distance"
      ],
      "metadata": {
        "id": "Qw2KwcJSIlWf"
      }
    },
    {
      "cell_type": "code",
      "execution_count": 14,
      "metadata": {
        "colab": {
          "base_uri": "https://localhost:8080/"
        },
        "id": "iIYBDrrN_fGa",
        "outputId": "41af5a05-0a58-46c6-8357-25522b70d3c7"
      },
      "outputs": [
        {
          "output_type": "execute_result",
          "data": {
            "text/plain": [
              "5.385164807134504"
            ]
          },
          "metadata": {},
          "execution_count": 14
        }
      ],
      "source": [
        "import numpy as np\n",
        "\n",
        "x = np.array([1, 2, 3])\n",
        "y = np.array([3, 5, 7])\n",
        "\n",
        "def euclidean(a, b):\n",
        "  squared = np.sqrt(np.sum(np.square(a-b)))\n",
        "  return squared\n",
        "\n",
        "euclidean(x, y)"
      ]
    },
    {
      "cell_type": "markdown",
      "source": [
        "#2. Loading a dataframe"
      ],
      "metadata": {
        "id": "G3nik3AFIiP4"
      }
    },
    {
      "cell_type": "code",
      "source": [
        "import pandas as pd\n",
        "\n",
        "# You need to specify the columns names\n",
        "# Like so:\n",
        "\n",
        "columnNames = ['Make','Drive','Range','PeakPower_kW','MPGe','0-60']\n",
        "\n",
        "# Then you can call the csv file:\n",
        "evs = pd.read_csv('evs.csv', columnNames)\n",
        "evs"
      ],
      "metadata": {
        "id": "iy8pRhIeBfIB"
      },
      "execution_count": null,
      "outputs": []
    },
    {
      "cell_type": "markdown",
      "source": [
        "#3. Lazy"
      ],
      "metadata": {
        "id": "LFLA3hGOMCm8"
      }
    },
    {
      "cell_type": "code",
      "source": [
        "#What is the difference between an lazy learner and a eager learner? What is the kNN algorithm?\n",
        "\n",
        "\"\"\"Eager learners biuld a model based on a relationship between features and labels, once the algorithm builds this model it 'forgets' the individual data instances.\n",
        "A lazy learner does not build a model beforehand. It remembers all the training instances and when it needs to make a prediction on a new instance it then processes\n",
        "all the training data.\n",
        "KNN algorithm is a lazy leatner, it keeps all the training data to make future predictions by computing the similarity between an input sample and each training instance.\"\"\""
      ],
      "metadata": {
        "colab": {
          "base_uri": "https://localhost:8080/",
          "height": 70
        },
        "id": "TWNNrj_4MG_s",
        "outputId": "198d5141-23a4-4bae-b32c-0e1b752ba9a6"
      },
      "execution_count": 17,
      "outputs": [
        {
          "output_type": "execute_result",
          "data": {
            "text/plain": [
              "\"Eager learners biuld a model based on a relationship between features and labels, once the algorithm builds this model it 'forgets' the individual data instances.\\nA lazy learner does not build a model beforehand. It remembers all the training instances and when it needs to make a prediction on a new instance it then processes\\nall the training data.\\nKNN algorithm is a lazy leatner, it keeps all the training data to make future predictions by computing the similarity between an input sample and each training instance.\""
            ],
            "application/vnd.google.colaboratory.intrinsic+json": {
              "type": "string"
            }
          },
          "metadata": {},
          "execution_count": 17
        }
      ]
    }
  ]
}
